{
 "cells": [
  {
   "cell_type": "code",
   "execution_count": null,
   "id": "1b7651c5",
   "metadata": {},
   "outputs": [],
   "source": [
    "import pandas as pd\n",
    "import os\n",
    "\n",
    "\n",
    "def load_price_data():\n",
    "    filepath = os.path.join('D:\\\\Quant\\\\Data', f\"master_stock_data.csv\")\n",
    "    df = pd.read_csv(filepath, parse_dates=['Date'])\n",
    "    \n",
    "    # Pivot long format to wide: index = Date, columns = Symbol, values = Close\n",
    "    prices = df.pivot(index='Date', columns='Symbol', values='Close')\n",
    "    prices = prices.sort_index()\n",
    "    return prices\n",
    "\n",
    "\n",
    "def momentum_factor(lookback=20):\n",
    "    \"\"\"\n",
    "    Calculate momentum factor: past return over `lookback` days.\n",
    "    Returns a DataFrame with tickers as columns, dates as index, values as momentum scores.\n",
    "    \"\"\"\n",
    "    prices = load_price_data()\n",
    "    momentum = prices.pct_change(lookback)\n",
    "    momentum = momentum.shift(1)  # Avoid lookahead bias\n",
    "    return momentum"
   ]
  },
  {
   "cell_type": "code",
   "execution_count": null,
   "id": "6946e9a3",
   "metadata": {},
   "outputs": [],
   "source": [
    "momentum_factor"
   ]
  }
 ],
 "metadata": {
  "kernelspec": {
   "display_name": "quant",
   "language": "python",
   "name": "python3"
  },
  "language_info": {
   "codemirror_mode": {
    "name": "ipython",
    "version": 3
   },
   "file_extension": ".py",
   "mimetype": "text/x-python",
   "name": "python",
   "nbconvert_exporter": "python",
   "pygments_lexer": "ipython3",
   "version": "3.13.5"
  }
 },
 "nbformat": 4,
 "nbformat_minor": 5
}
